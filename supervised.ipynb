{
 "cells": [
  {
   "cell_type": "markdown",
   "metadata": {
    "id": "P1B0M06be4Xm"
   },
   "source": [
    "# **Book Genre Prediction**"
   ]
  },
  {
   "cell_type": "code",
   "execution_count": 7,
   "metadata": {
    "id": "qt9M3yIHSyqj"
   },
   "outputs": [],
   "source": [
    "#Importing libraries.\n",
    "\n",
    "import pandas as pd\n",
    "import numpy as np\n",
    "import nltk\n",
    "import matplotlib.pyplot as plt \n",
    "import seaborn as sns\n",
    "import re\n",
    "from datetime import datetime\n",
    "from sklearn.feature_extraction.text import TfidfVectorizer\n",
    "from sklearn.model_selection import train_test_split\n",
    "from sklearn.metrics import accuracy_score \n",
    "from sklearn.metrics import classification_report,confusion_matrix\n",
    "from sklearn.ensemble import RandomForestClassifier\n",
    "from sklearn.tree import DecisionTreeClassifier\n",
    "from sklearn.svm import SVC\n",
    "# from lightgbm import LGBMClassifier\n",
    "from sklearn.ensemble import GradientBoostingClassifier\n"
   ]
  },
  {
   "cell_type": "code",
   "execution_count": 26,
   "metadata": {
    "id": "KONR_gBPTqQD"
   },
   "outputs": [],
   "source": [
    "#Using the pandas framework a dataset is created using the \"BooksDataSet.csv\" file.\n",
    "\n",
    "books=pd.read_csv('./coding/with_ques/AAA.csv')\n",
    "\n",
    "#We only keep the 4 neccessary columns that we will be need. \n",
    "books=pd.DataFrame(books,columns=['problem_statement','title','tags','num_occur'])"
   ]
  },
  {
   "cell_type": "code",
   "execution_count": 27,
   "metadata": {
    "colab": {
     "base_uri": "https://localhost:8080/",
     "height": 203
    },
    "id": "EFSQMtDkTu4D",
    "outputId": "9c150f82-65ac-436c-af37-6d499eefe96d"
   },
   "outputs": [
    {
     "data": {
      "text/html": [
       "<div>\n",
       "<style scoped>\n",
       "    .dataframe tbody tr th:only-of-type {\n",
       "        vertical-align: middle;\n",
       "    }\n",
       "\n",
       "    .dataframe tbody tr th {\n",
       "        vertical-align: top;\n",
       "    }\n",
       "\n",
       "    .dataframe thead th {\n",
       "        text-align: right;\n",
       "    }\n",
       "</style>\n",
       "<table border=\"1\" class=\"dataframe\">\n",
       "  <thead>\n",
       "    <tr style=\"text-align: right;\">\n",
       "      <th></th>\n",
       "      <th>problem_statement</th>\n",
       "      <th>title</th>\n",
       "      <th>tags</th>\n",
       "      <th>num_occur</th>\n",
       "    </tr>\n",
       "  </thead>\n",
       "  <tbody>\n",
       "    <tr>\n",
       "      <th>0</th>\n",
       "      <td>Design a data structure that follows the const...</td>\n",
       "      <td>LRU Cache</td>\n",
       "      <td>Linked List</td>\n",
       "      <td>117</td>\n",
       "    </tr>\n",
       "    <tr>\n",
       "      <th>1</th>\n",
       "      <td>Given an array of integers nums and an integer...</td>\n",
       "      <td>Two Sum</td>\n",
       "      <td>Hash Table</td>\n",
       "      <td>117</td>\n",
       "    </tr>\n",
       "    <tr>\n",
       "      <th>2</th>\n",
       "      <td>Given an m x n 2D binary grid grid which repre...</td>\n",
       "      <td>Number of Islands</td>\n",
       "      <td>Array</td>\n",
       "      <td>103</td>\n",
       "    </tr>\n",
       "    <tr>\n",
       "      <th>3</th>\n",
       "      <td>Given an array of intervals where intervals[i]...</td>\n",
       "      <td>Merge Intervals</td>\n",
       "      <td>String</td>\n",
       "      <td>87</td>\n",
       "    </tr>\n",
       "    <tr>\n",
       "      <th>4</th>\n",
       "      <td>You are given an array of strings products and...</td>\n",
       "      <td>Search Suggestions System</td>\n",
       "      <td>Depth-First Search</td>\n",
       "      <td>68</td>\n",
       "    </tr>\n",
       "  </tbody>\n",
       "</table>\n",
       "</div>"
      ],
      "text/plain": [
       "                                   problem_statement  \\\n",
       "0  Design a data structure that follows the const...   \n",
       "1  Given an array of integers nums and an integer...   \n",
       "2  Given an m x n 2D binary grid grid which repre...   \n",
       "3  Given an array of intervals where intervals[i]...   \n",
       "4  You are given an array of strings products and...   \n",
       "\n",
       "                       title                tags  num_occur  \n",
       "0                  LRU Cache         Linked List        117  \n",
       "1                    Two Sum          Hash Table        117  \n",
       "2          Number of Islands               Array        103  \n",
       "3            Merge Intervals              String         87  \n",
       "4  Search Suggestions System  Depth-First Search         68  "
      ]
     },
     "execution_count": 27,
     "metadata": {},
     "output_type": "execute_result"
    }
   ],
   "source": [
    "books.head()"
   ]
  },
  {
   "cell_type": "code",
   "execution_count": 28,
   "metadata": {
    "colab": {
     "base_uri": "https://localhost:8080/"
    },
    "id": "M3nEThVyTyMx",
    "outputId": "da5cd003-5332-4a3d-c28d-f0ad7e0f1cd4"
   },
   "outputs": [
    {
     "name": "stdout",
     "output_type": "stream",
     "text": [
      "<class 'pandas.core.frame.DataFrame'>\n",
      "RangeIndex: 10 entries, 0 to 9\n",
      "Data columns (total 4 columns):\n",
      " #   Column             Non-Null Count  Dtype \n",
      "---  ------             --------------  ----- \n",
      " 0   problem_statement  10 non-null     object\n",
      " 1   title              10 non-null     object\n",
      " 2   tags               10 non-null     object\n",
      " 3   num_occur          10 non-null     int64 \n",
      "dtypes: int64(1), object(3)\n",
      "memory usage: 448.0+ bytes\n"
     ]
    }
   ],
   "source": [
    "books.info()"
   ]
  },
  {
   "cell_type": "code",
   "execution_count": 29,
   "metadata": {
    "colab": {
     "base_uri": "https://localhost:8080/"
    },
    "id": "_5UM6HRBT2di",
    "outputId": "f239f3eb-c37a-4cb1-ea5a-5b5750a111dd"
   },
   "outputs": [
    {
     "data": {
      "text/plain": [
       "(10, 4)"
      ]
     },
     "execution_count": 29,
     "metadata": {},
     "output_type": "execute_result"
    }
   ],
   "source": [
    "books.shape"
   ]
  },
  {
   "cell_type": "code",
   "execution_count": 30,
   "metadata": {
    "colab": {
     "base_uri": "https://localhost:8080/",
     "height": 265
    },
    "id": "ucqIXVsWT5SY",
    "outputId": "aa10f0f0-3a2c-4421-fa2a-07bd61d5fd87"
   },
   "outputs": [
    {
     "data": {
      "text/html": [
       "<div>\n",
       "<style scoped>\n",
       "    .dataframe tbody tr th:only-of-type {\n",
       "        vertical-align: middle;\n",
       "    }\n",
       "\n",
       "    .dataframe tbody tr th {\n",
       "        vertical-align: top;\n",
       "    }\n",
       "\n",
       "    .dataframe thead th {\n",
       "        text-align: right;\n",
       "    }\n",
       "</style>\n",
       "<table border=\"1\" class=\"dataframe\">\n",
       "  <thead>\n",
       "    <tr style=\"text-align: right;\">\n",
       "      <th></th>\n",
       "      <th>problem_statement</th>\n",
       "      <th>title</th>\n",
       "      <th>num_occur</th>\n",
       "    </tr>\n",
       "    <tr>\n",
       "      <th>tags</th>\n",
       "      <th></th>\n",
       "      <th></th>\n",
       "      <th></th>\n",
       "    </tr>\n",
       "  </thead>\n",
       "  <tbody>\n",
       "    <tr>\n",
       "      <th>Array</th>\n",
       "      <td>2</td>\n",
       "      <td>2</td>\n",
       "      <td>2</td>\n",
       "    </tr>\n",
       "    <tr>\n",
       "      <th>Backtracking</th>\n",
       "      <td>1</td>\n",
       "      <td>1</td>\n",
       "      <td>1</td>\n",
       "    </tr>\n",
       "    <tr>\n",
       "      <th>Breadth-First Search</th>\n",
       "      <td>1</td>\n",
       "      <td>1</td>\n",
       "      <td>1</td>\n",
       "    </tr>\n",
       "    <tr>\n",
       "      <th>Depth-First Search</th>\n",
       "      <td>1</td>\n",
       "      <td>1</td>\n",
       "      <td>1</td>\n",
       "    </tr>\n",
       "    <tr>\n",
       "      <th>Dynamic Programming</th>\n",
       "      <td>1</td>\n",
       "      <td>1</td>\n",
       "      <td>1</td>\n",
       "    </tr>\n",
       "    <tr>\n",
       "      <th>Hash Table</th>\n",
       "      <td>1</td>\n",
       "      <td>1</td>\n",
       "      <td>1</td>\n",
       "    </tr>\n",
       "    <tr>\n",
       "      <th>Linked List</th>\n",
       "      <td>1</td>\n",
       "      <td>1</td>\n",
       "      <td>1</td>\n",
       "    </tr>\n",
       "    <tr>\n",
       "      <th>String</th>\n",
       "      <td>2</td>\n",
       "      <td>2</td>\n",
       "      <td>2</td>\n",
       "    </tr>\n",
       "  </tbody>\n",
       "</table>\n",
       "</div>"
      ],
      "text/plain": [
       "                      problem_statement  title  num_occur\n",
       "tags                                                     \n",
       "Array                                 2      2          2\n",
       "Backtracking                          1      1          1\n",
       "Breadth-First Search                  1      1          1\n",
       "Depth-First Search                    1      1          1\n",
       "Dynamic Programming                   1      1          1\n",
       "Hash Table                            1      1          1\n",
       "Linked List                           1      1          1\n",
       "String                                2      2          2"
      ]
     },
     "execution_count": 30,
     "metadata": {},
     "output_type": "execute_result"
    }
   ],
   "source": [
    "#Grouping all the rows by genre.\n",
    "books.groupby('tags').count()"
   ]
  },
  {
   "cell_type": "code",
   "execution_count": 17,
   "metadata": {
    "colab": {
     "base_uri": "https://localhost:8080/"
    },
    "id": "LeXnVEacT9Aw",
    "outputId": "3d9d8da5-30ea-410c-8c56-4591c28d8497"
   },
   "outputs": [
    {
     "data": {
      "text/plain": [
       "0    Design a data structure that follows the const...\n",
       "1    Given an array of integers nums and an integer...\n",
       "2    Given an m x n 2D binary grid grid which repre...\n",
       "3    Given an array of intervals where intervals[i]...\n",
       "4    You are given an array of strings products and...\n",
       "5    You are given an array prices where prices[i] ...\n",
       "6    Given an array of strings strs, group the anag...\n",
       "7    Given an array of points where points[i] = [xi...\n",
       "8    Given a string s, find the length of the longe...\n",
       "9    You are given an array of k linked-lists lists...\n",
       "Name: problem_statement, dtype: object"
      ]
     },
     "execution_count": 17,
     "metadata": {},
     "output_type": "execute_result"
    }
   ],
   "source": [
    "books['problem_statement']\n"
   ]
  },
  {
   "cell_type": "code",
   "execution_count": 18,
   "metadata": {
    "id": "vmjVbRn_UAKn"
   },
   "outputs": [],
   "source": [
    "# function for text cleaning\n",
    " \n",
    "def clean(text):\n",
    "    # remove backslash-apostrophe \n",
    "    text = re.sub(\"\\'\", \"\", text) \n",
    "    # remove everything except alphabets \n",
    "    text = re.sub(\"[^a-zA-Z]\",\" \",text) \n",
    "    # remove whitespaces \n",
    "    text = ' '.join(text.split()) \n",
    "    # convert text to lowercase \n",
    "    text = text.lower() \n",
    "    \n",
    "    return text\n",
    "\n",
    "books.loc[:,'problem_statement']=books.loc[:,'problem_statement'].apply(lambda x: clean(x))"
   ]
  },
  {
   "cell_type": "code",
   "execution_count": 19,
   "metadata": {
    "colab": {
     "base_uri": "https://localhost:8080/"
    },
    "id": "GLGGIH7PUDh0",
    "outputId": "db109521-0e22-490f-9d82-b2e25c27e831"
   },
   "outputs": [
    {
     "data": {
      "text/plain": [
       "0    design a data structure that follows the const...\n",
       "1    given an array of integers nums and an integer...\n",
       "2    given an m x n d binary grid grid which repres...\n",
       "3    given an array of intervals where intervals i ...\n",
       "4    you are given an array of strings products and...\n",
       "5    you are given an array prices where prices i i...\n",
       "6    given an array of strings strs group the anagr...\n",
       "7    given an array of points where points i xi yi ...\n",
       "8    given a string s find the length of the longes...\n",
       "9    you are given an array of k linked lists lists...\n",
       "Name: problem_statement, dtype: object"
      ]
     },
     "execution_count": 19,
     "metadata": {},
     "output_type": "execute_result"
    }
   ],
   "source": [
    "#Displaying \"summary\" after text-cleaning.\n",
    "books['problem_statement']\n"
   ]
  },
  {
   "cell_type": "code",
   "execution_count": 20,
   "metadata": {
    "colab": {
     "base_uri": "https://localhost:8080/",
     "height": 385
    },
    "id": "VPrvOq07UJj1",
    "outputId": "274bb4d1-63f0-4296-ac63-3232ca02b576"
   },
   "outputs": [
    {
     "name": "stdout",
     "output_type": "stream",
     "text": [
      "Graph to visualize the words and frequency in problem_statement.\n",
      "\n",
      "\n"
     ]
    },
    {
     "data": {
      "image/png": "[encoded data removed]",
      "text/plain": [
       "<Figure size 700x500 with 1 Axes>"
      ]
     },
     "metadata": {},
     "output_type": "display_data"
    }
   ],
   "source": [
    "#Function to visualize the words and frequency in book's summary.\n",
    "\n",
    "print(\"Graph to visualize the words and frequency in problem_statement.\\n\\n\")\n",
    "\n",
    "def freqwords(x, terms): \n",
    "  allwords = ' '.join([text for text in x]) \n",
    "  allwords = allwords.split() \n",
    "  fdist = nltk.FreqDist(allwords) \n",
    "  wordsdf = pd.DataFrame({'word':list(fdist.keys()), 'count':list(fdist.values())}) \n",
    "  \n",
    "  \n",
    "  d = wordsdf.nlargest(columns=\"count\", n = terms) \n",
    "  \n",
    "  # visualize words and frequencies\n",
    "  plt.figure(figsize=(7,5)) \n",
    "  ax = sns.barplot(data=d, x= \"count\", y = \"word\") \n",
    "  ax.set(ylabel = 'Word') \n",
    "  plt.show()\n",
    "  \n",
    "# print 25 most frequent words \n",
    "freqwords(books['problem_statement'], 25)"
   ]
  },
  {
   "cell_type": "code",
   "execution_count": 21,
   "metadata": {
    "colab": {
     "base_uri": "https://localhost:8080/"
    },
    "id": "HeW7LijyUPoj",
    "outputId": "6b9e4ca2-ee78-456c-f747-77b2857f4d45"
   },
   "outputs": [
    {
     "name": "stderr",
     "output_type": "stream",
     "text": [
      "[nltk_data] Downloading package stopwords to\n",
      "[nltk_data]     C:\\Users\\hp\\AppData\\Roaming\\nltk_data...\n",
      "[nltk_data]   Unzipping corpora\\stopwords.zip.\n"
     ]
    }
   ],
   "source": [
    "nltk.download('stopwords')\n",
    "\n",
    "from nltk.corpus import stopwords\n",
    "stop_words = set(stopwords.words('english'))\n",
    "\n",
    "# function to remove stopwords\n",
    "def removestopwords(text):\n",
    "    no_stopword_text = [w for w in text.split() if not w in stop_words]\n",
    "    return ' '.join(no_stopword_text)\n",
    "\n",
    "books['problem_statement'] = books['problem_statement'].apply(lambda x: removestopwords(x))"
   ]
  },
  {
   "cell_type": "code",
   "execution_count": 22,
   "metadata": {
    "colab": {
     "base_uri": "https://localhost:8080/"
    },
    "id": "1XJHvAkjUVG3",
    "outputId": "f7ab6cd7-35be-47ce-8caf-a0277de84152"
   },
   "outputs": [
    {
     "name": "stderr",
     "output_type": "stream",
     "text": [
      "[nltk_data] Downloading package wordnet to\n",
      "[nltk_data]     C:\\Users\\hp\\AppData\\Roaming\\nltk_data...\n",
      "[nltk_data]   Package wordnet is already up-to-date!\n"
     ]
    }
   ],
   "source": [
    "nltk.download('wordnet')\n",
    "from nltk.stem import WordNetLemmatizer\n",
    "\n",
    "lemma=WordNetLemmatizer()\n",
    "\n",
    "def lematizing(sentence):\n",
    "    stemSentence = \"\"\n",
    "    for word in sentence.split():\n",
    "        stem = lemma.lemmatize(word)\n",
    "        stemSentence += stem\n",
    "        stemSentence += \" \"\n",
    "    stemSentence = stemSentence.strip()\n",
    "    return stemSentence\n",
    "\n",
    "\n",
    "books['problem_statement'] = books['problem_statement'].apply(lambda x: lematizing(x))"
   ]
  },
  {
   "cell_type": "code",
   "execution_count": 23,
   "metadata": {
    "id": "I7nMZtWKUZIx"
   },
   "outputs": [],
   "source": [
    "from nltk.stem import PorterStemmer\n",
    "stemmer = PorterStemmer()\n",
    "def stemming(sentence):\n",
    "    stemSentence = \"\"\n",
    "    for word in sentence.split():\n",
    "        stem = stemmer.stem(word)\n",
    "        stemSentence += stem\n",
    "        stemSentence += \" \"\n",
    "    stemSentence = stemSentence.strip()\n",
    "    return stemSentence\n",
    "\n",
    "\n",
    "books['problem_statement'] = books['problem_statement'].apply(lambda x: stemming(x))"
   ]
  },
  {
   "cell_type": "code",
   "execution_count": 24,
   "metadata": {
    "colab": {
     "base_uri": "https://localhost:8080/"
    },
    "id": "mxGCotHLUdDE",
    "outputId": "cb803711-6740-461d-d44d-0f8c11f7dd43"
   },
   "outputs": [
    {
     "data": {
      "text/plain": [
       "0    design data structur follow constraint least r...\n",
       "1    given array integ num integ target return inde...\n",
       "2    given x n binari grid grid repres map land wat...\n",
       "3    given array interv interv starti endi merg ove...\n",
       "4    given array string product string searchword d...\n",
       "5    given array price price price given stock ith ...\n",
       "6    given array string str group anagram togeth re...\n",
       "7    given array point point xi yi repres point x p...\n",
       "8    given string find length longest substr withou...\n",
       "9    given array k link list list link list sort as...\n",
       "Name: problem_statement, dtype: object"
      ]
     },
     "execution_count": 24,
     "metadata": {},
     "output_type": "execute_result"
    }
   ],
   "source": [
    "books['problem_statement']\n"
   ]
  },
  {
   "cell_type": "code",
   "execution_count": 25,
   "metadata": {
    "colab": {
     "base_uri": "https://localhost:8080/",
     "height": 334
    },
    "id": "ROSKX5CbUjUQ",
    "outputId": "87a1b9fd-04bd-4f9c-ad10-83163b74fd82"
   },
   "outputs": [
    {
     "data": {
      "image/png": "[encoded data removed]",
      "text/plain": [
       "<Figure size 700x500 with 1 Axes>"
      ]
     },
     "metadata": {},
     "output_type": "display_data"
    }
   ],
   "source": [
    "#Function to visualize the words and frequency in book's summary.\n",
    "\n",
    "# print 25 most frequent words \n",
    "freqwords(books['problem_statement'], 25)"
   ]
  },
  {
   "cell_type": "code",
   "execution_count": 32,
   "metadata": {
    "id": "pMRhQTrqUnGv"
   },
   "outputs": [],
   "source": [
    "#Labeling each 'genre' with an unique number \n",
    "from sklearn.preprocessing import LabelEncoder\n",
    "le = LabelEncoder()\n",
    "y=le.fit_transform(books['tags'])"
   ]
  },
  {
   "cell_type": "code",
   "execution_count": 33,
   "metadata": {
    "colab": {
     "base_uri": "https://localhost:8080/"
    },
    "id": "oBIeH0-qUvz7",
    "outputId": "f75ba5df-a7d7-4dc2-997f-c7dc57f9e90a"
   },
   "outputs": [
    {
     "data": {
      "text/plain": [
       "array(['Array', 'Backtracking', 'Breadth-First Search',\n",
       "       'Depth-First Search', 'Dynamic Programming', 'Hash Table'],\n",
       "      dtype=object)"
      ]
     },
     "execution_count": 33,
     "metadata": {},
     "output_type": "execute_result"
    }
   ],
   "source": [
    "#perform inverse mapping on the unique numbers representing a genre.\n",
    "le.inverse_transform([0,1,2,3,4,5])"
   ]
  },
  {
   "cell_type": "code",
   "execution_count": 35,
   "metadata": {
    "id": "YuMUu6ebU4kt"
   },
   "outputs": [],
   "source": [
    "xtrain, xtest, ytrain, ytest = train_test_split(books['problem_statement'], y, test_size=0.2, random_state=557)\n"
   ]
  },
  {
   "cell_type": "code",
   "execution_count": 39,
   "metadata": {
    "id": "SxsDQ29DU5BO"
   },
   "outputs": [],
   "source": [
    "#Performing tf-idf \n",
    "\n",
    "tfidf_vectorizer = TfidfVectorizer(max_df=0.8, max_features=50)\n",
    "xtrain_tfidf = tfidf_vectorizer.fit_transform(xtrain.values.astype('U'))\n",
    "xtest_tfidf = tfidf_vectorizer.transform(xtest.values.astype('U'))"
   ]
  },
  {
   "cell_type": "code",
   "execution_count": 40,
   "metadata": {
    "colab": {
     "base_uri": "https://localhost:8080/"
    },
    "id": "70cZOfLtVYqK",
    "outputId": "8f512d3e-e180-42b1-8967-a8bbed57e87d"
   },
   "outputs": [
    {
     "name": "stdout",
     "output_type": "stream",
     "text": [
      "Support Vector Classifier\n",
      "\n",
      "Accuracy Score : 0.0\n",
      "Report : \n",
      "              precision    recall  f1-score   support\n",
      "\n",
      "           0       0.00      0.00      0.00       0.0\n",
      "           1       0.00      0.00      0.00       1.0\n",
      "           3       0.00      0.00      0.00       1.0\n",
      "           7       0.00      0.00      0.00       0.0\n",
      "\n",
      "    accuracy                           0.00       2.0\n",
      "   macro avg       0.00      0.00      0.00       2.0\n",
      "weighted avg       0.00      0.00      0.00       2.0\n",
      "\n"
     ]
    },
    {
     "name": "stderr",
     "output_type": "stream",
     "text": [
      "C:\\ProgramData\\Anaconda3\\lib\\site-packages\\sklearn\\metrics\\_classification.py:1318: UndefinedMetricWarning: Precision and F-score are ill-defined and being set to 0.0 in labels with no predicted samples. Use `zero_division` parameter to control this behavior.\n",
      "  _warn_prf(average, modifier, msg_start, len(result))\n",
      "C:\\ProgramData\\Anaconda3\\lib\\site-packages\\sklearn\\metrics\\_classification.py:1318: UndefinedMetricWarning: Recall and F-score are ill-defined and being set to 0.0 in labels with no true samples. Use `zero_division` parameter to control this behavior.\n",
      "  _warn_prf(average, modifier, msg_start, len(result))\n",
      "C:\\ProgramData\\Anaconda3\\lib\\site-packages\\sklearn\\metrics\\_classification.py:1318: UndefinedMetricWarning: Precision and F-score are ill-defined and being set to 0.0 in labels with no predicted samples. Use `zero_division` parameter to control this behavior.\n",
      "  _warn_prf(average, modifier, msg_start, len(result))\n",
      "C:\\ProgramData\\Anaconda3\\lib\\site-packages\\sklearn\\metrics\\_classification.py:1318: UndefinedMetricWarning: Recall and F-score are ill-defined and being set to 0.0 in labels with no true samples. Use `zero_division` parameter to control this behavior.\n",
      "  _warn_prf(average, modifier, msg_start, len(result))\n",
      "C:\\ProgramData\\Anaconda3\\lib\\site-packages\\sklearn\\metrics\\_classification.py:1318: UndefinedMetricWarning: Precision and F-score are ill-defined and being set to 0.0 in labels with no predicted samples. Use `zero_division` parameter to control this behavior.\n",
      "  _warn_prf(average, modifier, msg_start, len(result))\n",
      "C:\\ProgramData\\Anaconda3\\lib\\site-packages\\sklearn\\metrics\\_classification.py:1318: UndefinedMetricWarning: Recall and F-score are ill-defined and being set to 0.0 in labels with no true samples. Use `zero_division` parameter to control this behavior.\n",
      "  _warn_prf(average, modifier, msg_start, len(result))\n"
     ]
    }
   ],
   "source": [
    "svc = SVC(kernel='rbf',gamma=1)\n",
    "svc.fit(xtrain_tfidf,ytrain)\n",
    "svpred=svc.predict(xtest_tfidf)\n",
    "\n",
    "print(\"Support Vector Classifier\\n\")\n",
    "print( 'Accuracy Score :',accuracy_score(ytest,svpred))\n",
    "print ('Report : ')\n",
    "print(classification_report(ytest,svpred))\n"
   ]
  },
  {
   "cell_type": "code",
   "execution_count": 41,
   "metadata": {
    "colab": {
     "base_uri": "https://localhost:8080/"
    },
    "id": "jrEHtjbxchdQ",
    "outputId": "6294cec9-82b1-4271-84e6-a44c2a4f822f"
   },
   "outputs": [
    {
     "name": "stdout",
     "output_type": "stream",
     "text": [
      "Random Forest Classifier\n",
      "\n",
      "Accuracy Score : 0.0\n",
      "Report : \n",
      "              precision    recall  f1-score   support\n",
      "\n",
      "           0       0.00      0.00      0.00       0.0\n",
      "           1       0.00      0.00      0.00       1.0\n",
      "           3       0.00      0.00      0.00       1.0\n",
      "\n",
      "    accuracy                           0.00       2.0\n",
      "   macro avg       0.00      0.00      0.00       2.0\n",
      "weighted avg       0.00      0.00      0.00       2.0\n",
      "\n"
     ]
    },
    {
     "name": "stderr",
     "output_type": "stream",
     "text": [
      "C:\\ProgramData\\Anaconda3\\lib\\site-packages\\sklearn\\metrics\\_classification.py:1318: UndefinedMetricWarning: Precision and F-score are ill-defined and being set to 0.0 in labels with no predicted samples. Use `zero_division` parameter to control this behavior.\n",
      "  _warn_prf(average, modifier, msg_start, len(result))\n",
      "C:\\ProgramData\\Anaconda3\\lib\\site-packages\\sklearn\\metrics\\_classification.py:1318: UndefinedMetricWarning: Recall and F-score are ill-defined and being set to 0.0 in labels with no true samples. Use `zero_division` parameter to control this behavior.\n",
      "  _warn_prf(average, modifier, msg_start, len(result))\n",
      "C:\\ProgramData\\Anaconda3\\lib\\site-packages\\sklearn\\metrics\\_classification.py:1318: UndefinedMetricWarning: Precision and F-score are ill-defined and being set to 0.0 in labels with no predicted samples. Use `zero_division` parameter to control this behavior.\n",
      "  _warn_prf(average, modifier, msg_start, len(result))\n",
      "C:\\ProgramData\\Anaconda3\\lib\\site-packages\\sklearn\\metrics\\_classification.py:1318: UndefinedMetricWarning: Recall and F-score are ill-defined and being set to 0.0 in labels with no true samples. Use `zero_division` parameter to control this behavior.\n",
      "  _warn_prf(average, modifier, msg_start, len(result))\n",
      "C:\\ProgramData\\Anaconda3\\lib\\site-packages\\sklearn\\metrics\\_classification.py:1318: UndefinedMetricWarning: Precision and F-score are ill-defined and being set to 0.0 in labels with no predicted samples. Use `zero_division` parameter to control this behavior.\n",
      "  _warn_prf(average, modifier, msg_start, len(result))\n",
      "C:\\ProgramData\\Anaconda3\\lib\\site-packages\\sklearn\\metrics\\_classification.py:1318: UndefinedMetricWarning: Recall and F-score are ill-defined and being set to 0.0 in labels with no true samples. Use `zero_division` parameter to control this behavior.\n",
      "  _warn_prf(average, modifier, msg_start, len(result))\n"
     ]
    }
   ],
   "source": [
    "rf = RandomForestClassifier(n_estimators=200)\n",
    "rf.fit(xtrain_tfidf,ytrain)\n",
    "rfpred=rf.predict(xtest_tfidf)\n",
    "\n",
    "print(\"Random Forest Classifier\\n\")\n",
    "print( 'Accuracy Score :',accuracy_score(ytest,rfpred))\n",
    "print ('Report : ')\n",
    "print(classification_report(ytest,rfpred))\n"
   ]
  },
  {
   "cell_type": "code",
   "execution_count": 22,
   "metadata": {
    "colab": {
     "base_uri": "https://localhost:8080/"
    },
    "id": "SOv-cwEFdEcu",
    "outputId": "b8ce3093-fb6b-4aef-84e3-f8ecc04a1b44"
   },
   "outputs": [
    {
     "name": "stdout",
     "output_type": "stream",
     "text": [
      "Decision Tree Classifier\n",
      "\n",
      "Accuracy Score : 0.43\n",
      "Report : \n",
      "              precision    recall  f1-score   support\n",
      "\n",
      "           0       0.47      0.50      0.48       102\n",
      "           1       0.41      0.51      0.45        89\n",
      "           2       0.50      0.46      0.48       110\n",
      "           3       0.48      0.40      0.43       100\n",
      "           4       0.45      0.46      0.46        97\n",
      "           5       0.27      0.25      0.26       102\n",
      "\n",
      "    accuracy                           0.43       600\n",
      "   macro avg       0.43      0.43      0.43       600\n",
      "weighted avg       0.43      0.43      0.43       600\n",
      "\n"
     ]
    }
   ],
   "source": [
    "dt = DecisionTreeClassifier(criterion = 'entropy')\n",
    "dt.fit(xtrain_tfidf,ytrain)\n",
    "dtpred=dt.predict(xtest_tfidf)\n",
    "\n",
    "print(\"Decision Tree Classifier\\n\")\n",
    "print( 'Accuracy Score :',accuracy_score(ytest,dtpred))\n",
    "print ('Report : ')\n",
    "print(classification_report(ytest,dtpred))\n"
   ]
  },
  {
   "cell_type": "code",
   "execution_count": 23,
   "metadata": {
    "colab": {
     "base_uri": "https://localhost:8080/"
    },
    "id": "yBQ9MIdrdU5T",
    "outputId": "928b5dfb-713f-4485-8d8e-d94abfb7834c"
   },
   "outputs": [
    {
     "name": "stdout",
     "output_type": "stream",
     "text": [
      "Gradient Boosting Classifier\n",
      "\n",
      "Accuracy Score : 0.6433333333333333\n",
      "Report : \n",
      "              precision    recall  f1-score   support\n",
      "\n",
      "           0       0.66      0.75      0.70       102\n",
      "           1       0.58      0.55      0.56        89\n",
      "           2       0.72      0.70      0.71       110\n",
      "           3       0.69      0.65      0.67       100\n",
      "           4       0.72      0.69      0.71        97\n",
      "           5       0.49      0.50      0.50       102\n",
      "\n",
      "    accuracy                           0.64       600\n",
      "   macro avg       0.64      0.64      0.64       600\n",
      "weighted avg       0.64      0.64      0.64       600\n",
      "\n"
     ]
    }
   ],
   "source": [
    "gvc = GradientBoostingClassifier()\n",
    "gvc.fit(xtrain_tfidf,ytrain)\n",
    "gvcpred=gvc.predict(xtest_tfidf)\n",
    "\n",
    "print(\"Gradient Boosting Classifier\\n\")\n",
    "print( 'Accuracy Score :',accuracy_score(ytest,gvcpred))\n",
    "print ('Report : ')\n",
    "print(classification_report(ytest,gvcpred))\n"
   ]
  },
  {
   "cell_type": "code",
   "execution_count": 24,
   "metadata": {
    "colab": {
     "base_uri": "https://localhost:8080/"
    },
    "id": "lrX5kkINdlWR",
    "outputId": "5da87d6d-e2dc-48d4-9638-07aa737c2f35"
   },
   "outputs": [
    {
     "name": "stdout",
     "output_type": "stream",
     "text": [
      "Naive Bayes Classifier\n",
      "\n",
      "Accuracy Score : 0.655\n",
      "Report : \n",
      "              precision    recall  f1-score   support\n",
      "\n",
      "           0       0.66      0.70      0.68       102\n",
      "           1       0.57      0.64      0.60        89\n",
      "           2       0.74      0.71      0.73       110\n",
      "           3       0.67      0.62      0.64       100\n",
      "           4       0.76      0.69      0.72        97\n",
      "           5       0.55      0.57      0.56       102\n",
      "\n",
      "    accuracy                           0.66       600\n",
      "   macro avg       0.66      0.65      0.65       600\n",
      "weighted avg       0.66      0.66      0.66       600\n",
      "\n"
     ]
    }
   ],
   "source": [
    "lg = LGBMClassifier()\n",
    "lg.fit(xtrain_tfidf,ytrain)\n",
    "lgbpred=lg.predict(xtest_tfidf)\n",
    "\n",
    "print(\"Naive Bayes Classifier\\n\")\n",
    "print( 'Accuracy Score :',accuracy_score(ytest,lgbpred))\n",
    "print ('Report : ')\n",
    "print(classification_report(ytest,lgbpred))\n"
   ]
  },
  {
   "cell_type": "markdown",
   "metadata": {
    "id": "lpolPmV5i-oQ"
   },
   "source": [
    "* Among all models Support Vector Classifier model gives highest accuracy,so we make final prediction using this model."
   ]
  },
  {
   "cell_type": "markdown",
   "metadata": {
    "id": "a037tOaqfAz5"
   },
   "source": [
    "## **Final Support Vector Regression model**"
   ]
  },
  {
   "cell_type": "code",
   "execution_count": 25,
   "metadata": {
    "colab": {
     "base_uri": "https://localhost:8080/"
    },
    "id": "hEvHWXcreMEx",
    "outputId": "e7ac7beb-3ad5-4673-f944-5005b7095b05"
   },
   "outputs": [
    {
     "name": "stdout",
     "output_type": "stream",
     "text": [
      "[4 5 1 5 0 0 1 5 2 4 1 4 1 2 5 2 5 1 4 5 4 3 4 2 4 2 2 5 2 4 2 2 5 3 2 2 5\n",
      " 3 0 4 4 4 5 3 2 5 2 2 0 4 4 5 0 2 5 3 1 2 4 1 2 4 1 2 0 0 1 1 4 0 4 5 3 0\n",
      " 1 1 4 5 2 2 5 1 5 4 4 5 2 2 2 5 4 2 0 5 3 2 5 3 3 5 0 2 5 3 3 4 2 2 0 3 4\n",
      " 5 3 1 1 4 1 5 4 4 4 5 0 0 0 4 3 1 3 2 2 5 1 2 2 1 0 1 4 3 1 1 3 3 0 2 2 3\n",
      " 3 2 0 4 1 4 0 0 4 1 0 4 1 2 4 2 1 4 4 3 0 3 0 3 2 0 0 3 2 5 2 4 4 3 5 3 1\n",
      " 5 5 3 0 3 5 5 0 4 3 1 2 3 1 0 0 4 2 0 2 4 3 1 2 5 3 3 5 2 1 1 1 0 1 3 1 0\n",
      " 0 2 4 0 1 5 5 5 5 2 3 2 1 5 4 4 3 5 3 2 0 5 5 3 1 0 4 3 0 0 2 5 0 0 5 4 5\n",
      " 3 0 0 1 3 2 2 1 3 1 0 5 2 5 1 4 1 5 1 3 1 5 3 4 3 4 1 1 1 1 0 0 3 2 2 4 4\n",
      " 0 5 1 2 2 1 3 3 4 3 1 5 0 1 3 3 0 2 0 5 2 2 0 5 0 2 3 4 1 3 0 5 1 2 3 3 3\n",
      " 0 5 1 2 2 2 5 2 1 3 0 1 0 1 4 3 0 0 4 3 5 4 0 4 2 0 3 3 3 1 2 5 0 2 5 4 2\n",
      " 5 0 3 0 5 5 5 5 5 0 2 2 2 4 1 5 3 0 5 1 4 0 1 5 4 2 1 2 5 4 5 5 3 3 5 3 1\n",
      " 0 3 0 4 0 2 1 5 5 1 1 4 2 3 0 4 4 2 2 5 5 3 3 4 5 5 2 5 5 2 5 5 4 4 1 2 4\n",
      " 4 5 1 2 1 4 0 1 5 1 4 2 3 5 1 3 2 1 3 0 4 0 0 4 4 2 3 0 2 1 2 4 5 0 1 3 4\n",
      " 5 3 0 0 1 1 5 5 0 0 3 0 2 0 5 4 2 3 2 3 2 5 3 5 5 1 4 2 5 4 2 2 1 2 3 2 2\n",
      " 2 1 5 3 3 4 1 0 4 2 1 3 2 3 2 0 2 4 5 3 5 0 3 2 0 3 1 3 0 2 1 1 5 1 1 5 1\n",
      " 0 2 1 0 2 5 5 4 3 3 0 1 1 5 4 1 0 5 1 0 1 5 5 3 1 4 0 4 1 2 2 0 5 5 4 1 1\n",
      " 0 4 2 1 3 0 2 1]\n",
      "\n",
      "Accuracy Score : 0.775\n",
      "Report : \n",
      "              precision    recall  f1-score   support\n",
      "\n",
      "           0       0.84      0.78      0.81       102\n",
      "           1       0.67      0.76      0.71        89\n",
      "           2       0.84      0.85      0.84       110\n",
      "           3       0.77      0.72      0.74       100\n",
      "           4       0.83      0.77      0.80        97\n",
      "           5       0.71      0.75      0.73       102\n",
      "\n",
      "    accuracy                           0.78       600\n",
      "   macro avg       0.78      0.77      0.77       600\n",
      "weighted avg       0.78      0.78      0.78       600\n",
      "\n"
     ]
    }
   ],
   "source": [
    "model = SVC(kernel='rbf',gamma=1)\n",
    "model.fit(xtrain_tfidf,ytrain)\n",
    "pred=model.predict(xtest_tfidf)\n",
    "\n",
    "print(pred)\n",
    "print('\\nAccuracy Score :',accuracy_score(ytest,pred))\n",
    "print ('Report : ')\n",
    "conf_matrix = confusion_matrix(ytest, pred)\n",
    "print(classification_report(ytest,pred))\n"
   ]
  },
  {
   "cell_type": "code",
   "execution_count": 26,
   "metadata": {
    "colab": {
     "base_uri": "https://localhost:8080/"
    },
    "id": "9d6Cw54_aOF8",
    "outputId": "cd6acbdb-8396-43d8-fc1e-ce0406232e77"
   },
   "outputs": [
    {
     "data": {
      "text/plain": [
       "1576"
      ]
     },
     "execution_count": 26,
     "metadata": {
      "tags": []
     },
     "output_type": "execute_result"
    }
   ],
   "source": [
    "k = xtest.sample(1).index[0]\n",
    "k"
   ]
  },
  {
   "cell_type": "markdown",
   "metadata": {
    "id": "Qz5YNqprgGob"
   },
   "source": [
    "## Testing our Model by comparing Actual genre with Predicted genre"
   ]
  },
  {
   "cell_type": "code",
   "execution_count": 27,
   "metadata": {
    "colab": {
     "base_uri": "https://localhost:8080/"
    },
    "id": "FGv6YBWgVmZ7",
    "outputId": "b33851bc-548e-4fe0-daea-d2cfc119054d"
   },
   "outputs": [
    {
     "name": "stdout",
     "output_type": "stream",
     "text": [
      "\n",
      "Book:  Marazan\n",
      "\n",
      "Predicted genre:  Historical novel\n",
      "\n",
      "Actual genre:  Thriller \n",
      "\n",
      "-------------------------------\n",
      "\n",
      "Book:  Johnny Gone Down\n",
      "\n",
      "Predicted genre:  Thriller\n",
      "\n",
      "Actual genre:  Thriller \n",
      "\n",
      "-------------------------------\n",
      "\n",
      "Book:  Thirteenth City\n",
      "\n",
      "Predicted genre:  Science Fiction\n",
      "\n",
      "Actual genre:  Science Fiction \n",
      "\n",
      "-------------------------------\n",
      "\n",
      "Book:  The Husband\n",
      "\n",
      "Predicted genre:  Fantasy\n",
      "\n",
      "Actual genre:  Thriller \n",
      "\n",
      "-------------------------------\n",
      "\n",
      "Book:  Candle\n",
      "\n",
      "Predicted genre:  Science Fiction\n",
      "\n",
      "Actual genre:  Science Fiction \n",
      "\n",
      "-------------------------------\n",
      "\n",
      "Book:  Blind Lake\n",
      "\n",
      "Predicted genre:  Science Fiction\n",
      "\n",
      "Actual genre:  Science Fiction \n",
      "\n",
      "-------------------------------\n",
      "\n",
      "Book:  Echo Park\n",
      "\n",
      "Predicted genre:  Crime Fiction\n",
      "\n",
      "Actual genre:  Crime Fiction \n",
      "\n",
      "-------------------------------\n",
      "\n",
      "Book:  Sons of Destiny\n",
      "\n",
      "Predicted genre:  Horror\n",
      "\n",
      "Actual genre:  Horror \n",
      "\n",
      "-------------------------------\n",
      "\n",
      "Book:  Quarantine\n",
      "\n",
      "Predicted genre:  Horror\n",
      "\n",
      "Actual genre:  Historical novel \n",
      "\n",
      "-------------------------------\n",
      "\n",
      "Book:  Worldwar: Upsetting the Balance\n",
      "\n",
      "Predicted genre:  Science Fiction\n",
      "\n",
      "Actual genre:  Science Fiction \n",
      "\n",
      "-------------------------------\n",
      "\n",
      "Book:  The Two Deaths of Quincas Wateryell\n",
      "\n",
      "Predicted genre:  Historical novel\n",
      "\n",
      "Actual genre:  Crime Fiction \n",
      "\n",
      "-------------------------------\n",
      "\n",
      "Book:  The Final Unfinished Voyage of Jack Aubrey\n",
      "\n",
      "Predicted genre:  Historical novel\n",
      "\n",
      "Actual genre:  Historical novel \n",
      "\n",
      "-------------------------------\n",
      "\n",
      "Book:  Falling Angel\n",
      "\n",
      "Predicted genre:  Horror\n",
      "\n",
      "Actual genre:  Thriller \n",
      "\n",
      "-------------------------------\n",
      "\n",
      "Book:  Thinner\n",
      "\n",
      "Predicted genre:  Crime Fiction\n",
      "\n",
      "Actual genre:  Horror \n",
      "\n",
      "-------------------------------\n",
      "\n",
      "Book:  Hunted\n",
      "\n",
      "Predicted genre:  Horror\n",
      "\n",
      "Actual genre:  Horror \n",
      "\n",
      "-------------------------------\n",
      "\n",
      "Book:  August 1914\n",
      "\n",
      "Predicted genre:  Historical novel\n",
      "\n",
      "Actual genre:  Historical novel \n",
      "\n",
      "-------------------------------\n",
      "\n",
      "Book:  Sidney Sheldon's After the Darkness\n",
      "\n",
      "Predicted genre:  Crime Fiction\n",
      "\n",
      "Actual genre:  Thriller \n",
      "\n",
      "-------------------------------\n",
      "\n",
      "Book:  The Line of Beauty\n",
      "\n",
      "Predicted genre:  Historical novel\n",
      "\n",
      "Actual genre:  Historical novel \n",
      "\n",
      "-------------------------------\n",
      "\n",
      "Book:  Sharpe's Havoc\n",
      "\n",
      "Predicted genre:  Historical novel\n",
      "\n",
      "Actual genre:  Historical novel \n",
      "\n",
      "-------------------------------\n",
      "\n",
      "Book:  Last Bus to Woodstock\n",
      "\n",
      "Predicted genre:  Crime Fiction\n",
      "\n",
      "Actual genre:  Crime Fiction \n",
      "\n",
      "-------------------------------\n",
      "\n",
      "Book:  Conan the Adventurer\n",
      "\n",
      "Predicted genre:  Fantasy\n",
      "\n",
      "Actual genre:  Fantasy \n",
      "\n",
      "-------------------------------\n",
      "\n",
      "Book:  Spaceship to Saturn\n",
      "\n",
      "Predicted genre:  Science Fiction\n",
      "\n",
      "Actual genre:  Science Fiction \n",
      "\n",
      "-------------------------------\n",
      "\n",
      "Book:  Glasshouse\n",
      "\n",
      "Predicted genre:  Science Fiction\n",
      "\n",
      "Actual genre:  Science Fiction \n",
      "\n",
      "-------------------------------\n",
      "\n",
      "Book:  The Dark Crusader\n",
      "\n",
      "Predicted genre:  Thriller\n",
      "\n",
      "Actual genre:  Thriller \n",
      "\n",
      "-------------------------------\n",
      "\n",
      "Book:  The Sittaford Mystery\n",
      "\n",
      "Predicted genre:  Crime Fiction\n",
      "\n",
      "Actual genre:  Crime Fiction \n",
      "\n",
      "-------------------------------\n",
      "\n",
      "Book:  Guy Mannering\n",
      "\n",
      "Predicted genre:  Crime Fiction\n",
      "\n",
      "Actual genre:  Historical novel \n",
      "\n",
      "-------------------------------\n",
      "\n",
      "Book:  Firstborn\n",
      "\n",
      "Predicted genre:  Science Fiction\n",
      "\n",
      "Actual genre:  Science Fiction \n",
      "\n",
      "-------------------------------\n",
      "\n",
      "Book:  Waiting for Anya\n",
      "\n",
      "Predicted genre:  Historical novel\n",
      "\n",
      "Actual genre:  Historical novel \n",
      "\n",
      "-------------------------------\n",
      "\n",
      "Book:  Hello America\n",
      "\n",
      "Predicted genre:  Science Fiction\n",
      "\n",
      "Actual genre:  Science Fiction \n",
      "\n",
      "-------------------------------\n",
      "\n",
      "Book:  The Six Sacred Stones\n",
      "\n",
      "Predicted genre:  Thriller\n",
      "\n",
      "Actual genre:  Thriller \n",
      "\n",
      "-------------------------------\n",
      "\n",
      "Book:  The Dark Cry of the Moon\n",
      "\n",
      "Predicted genre:  Horror\n",
      "\n",
      "Actual genre:  Horror \n",
      "\n",
      "-------------------------------\n",
      "\n",
      "Book:  Olympos\n",
      "\n",
      "Predicted genre:  Science Fiction\n",
      "\n",
      "Actual genre:  Science Fiction \n",
      "\n",
      "-------------------------------\n",
      "\n",
      "Book:  The Master Mind of Mars\n",
      "\n",
      "Predicted genre:  Science Fiction\n",
      "\n",
      "Actual genre:  Science Fiction \n",
      "\n",
      "-------------------------------\n",
      "\n",
      "Book:  Count Robert of Paris\n",
      "\n",
      "Predicted genre:  Historical novel\n",
      "\n",
      "Actual genre:  Historical novel \n",
      "\n",
      "-------------------------------\n",
      "\n",
      "Book:  Ghoul\n",
      "\n",
      "Predicted genre:  Horror\n",
      "\n",
      "Actual genre:  Horror \n",
      "\n",
      "-------------------------------\n",
      "\n",
      "Book:  Glasshouse\n",
      "\n",
      "Predicted genre:  Science Fiction\n",
      "\n",
      "Actual genre:  Science Fiction \n",
      "\n",
      "-------------------------------\n",
      "\n",
      "Book:  The Postman Always Rings Twice\n",
      "\n",
      "Predicted genre:  Crime Fiction\n",
      "\n",
      "Actual genre:  Crime Fiction \n",
      "\n",
      "-------------------------------\n",
      "\n",
      "Book:  The Bancroft Strategy\n",
      "\n",
      "Predicted genre:  Thriller\n",
      "\n",
      "Actual genre:  Thriller \n",
      "\n",
      "-------------------------------\n",
      "\n",
      "Book:  The Outlaw of Torn\n",
      "\n",
      "Predicted genre:  Historical novel\n",
      "\n",
      "Actual genre:  Historical novel \n",
      "\n",
      "-------------------------------\n",
      "\n",
      "Book:  The Dark Crusader\n",
      "\n",
      "Predicted genre:  Thriller\n",
      "\n",
      "Actual genre:  Thriller \n",
      "\n",
      "-------------------------------\n",
      "\n",
      "Book:  Epiphany\n",
      "\n",
      "Predicted genre:  Crime Fiction\n",
      "\n",
      "Actual genre:  Crime Fiction \n",
      "\n",
      "-------------------------------\n",
      "\n",
      "Book:  Eyes of the Calculor\n",
      "\n",
      "Predicted genre:  Science Fiction\n",
      "\n",
      "Actual genre:  Science Fiction \n",
      "\n",
      "-------------------------------\n",
      "\n",
      "Book:  Bloodhype\n",
      "\n",
      "Predicted genre:  Science Fiction\n",
      "\n",
      "Actual genre:  Fantasy \n",
      "\n",
      "-------------------------------\n",
      "\n",
      "Book:  Outcast\n",
      "\n",
      "Predicted genre:  Historical novel\n",
      "\n",
      "Actual genre:  Historical novel \n",
      "\n",
      "-------------------------------\n",
      "\n",
      "Book:  Od Magic\n",
      "\n",
      "Predicted genre:  Fantasy\n",
      "\n",
      "Actual genre:  Fantasy \n",
      "\n",
      "-------------------------------\n",
      "\n",
      "Book:  The Teahouse Fire\n",
      "\n",
      "Predicted genre:  Historical novel\n",
      "\n",
      "Actual genre:  Historical novel \n",
      "\n",
      "-------------------------------\n",
      "\n",
      "Book:  Just War\n",
      "\n",
      "Predicted genre:  Science Fiction\n",
      "\n",
      "Actual genre:  Science Fiction \n",
      "\n",
      "-------------------------------\n",
      "\n",
      "Book:  Tiassa\n",
      "\n",
      "Predicted genre:  Fantasy\n",
      "\n",
      "Actual genre:  Fantasy \n",
      "\n",
      "-------------------------------\n",
      "\n",
      "Book:  The Final Unfinished Voyage of Jack Aubrey\n",
      "\n",
      "Predicted genre:  Historical novel\n",
      "\n",
      "Actual genre:  Historical novel \n",
      "\n",
      "-------------------------------\n",
      "\n",
      "Book:  At the Gates of Darkness\n",
      "\n",
      "Predicted genre:  Fantasy\n",
      "\n",
      "Actual genre:  Fantasy \n",
      "\n",
      "-------------------------------\n"
     ]
    }
   ],
   "source": [
    "def process(q):\n",
    "    q = clean(q)\n",
    "    q = removestopwords(q)\n",
    "    q = lematizing(q)\n",
    "    q = stemming(q)\n",
    "    q_vec = tfidf_vectorizer.transform([q])\n",
    "    q_pred = model.predict(q_vec)\n",
    "    return le.inverse_transform(q_pred)[0]\n",
    "\n",
    "for i in range(50):\n",
    "  k = xtest.sample(1).index[0]\n",
    "  \n",
    "  print(\"\\nBook: \", books['book_name'][k] )\n",
    "  print(\"\\nPredicted genre: \", process(xtest[k]))\n",
    "  print(\"\\nActual genre: \",books['genre'][k], \"\\n\")\n",
    "  print(\"-------------------------------\")\n"
   ]
  },
  {
   "cell_type": "code",
   "execution_count": null,
   "metadata": {
    "id": "YKLDvM5Mi8eV"
   },
   "outputs": [],
   "source": []
  },
  {
   "cell_type": "code",
   "execution_count": null,
   "metadata": {},
   "outputs": [],
   "source": []
  }
 ],
 "metadata": {
  "colab": {
   "name": "Book Genre Prediction.ipynb",
   "provenance": []
  },
  "kernelspec": {
   "display_name": "Python 3 (ipykernel)",
   "language": "python",
   "name": "python3"
  },
  "language_info": {
   "codemirror_mode": {
    "name": "ipython",
    "version": 3
   },
   "file_extension": ".py",
   "mimetype": "text/x-python",
   "name": "python",
   "nbconvert_exporter": "python",
   "pygments_lexer": "ipython3",
   "version": "3.9.13"
  }
 },
 "nbformat": 4,
 "nbformat_minor": 1
}

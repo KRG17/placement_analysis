{
 "cells": [
  {
   "cell_type": "code",
   "execution_count": 1,
   "id": "ecd59c46",
   "metadata": {},
   "outputs": [],
   "source": [
    "from docx import Document\n"
   ]
  },
  {
   "cell_type": "code",
   "execution_count": null,
   "id": "cce1ba63",
   "metadata": {},
   "outputs": [],
   "source": []
  },
  {
   "cell_type": "code",
   "execution_count": 2,
   "id": "44a0d135",
   "metadata": {},
   "outputs": [],
   "source": [
    "def get_ques_list(filename):\n",
    "    filename = \"Amazon.docx\"\n",
    "    ques = []\n",
    "    document = Document(filename)\n",
    "    print(filename)\n",
    "    print(document)\n",
    "    return ques"
   ]
  },
  {
   "cell_type": "code",
   "execution_count": 3,
   "id": "e5fb968b",
   "metadata": {},
   "outputs": [
    {
     "name": "stdout",
     "output_type": "stream",
     "text": [
      "C:\\Users\\hp\\PycharmProjects\\placement\\theory\n",
      "Amazon.docx\n",
      "<docx.document.Document object at 0x0000021C47702E00>\n",
      "Amazon.docx\n",
      "[]\n",
      "\n",
      "Amazon.docx\n",
      "<docx.document.Document object at 0x0000021C47702E00>\n",
      "Google.docx\n",
      "[]\n",
      "\n",
      "Amazon.docx\n",
      "<docx.document.Document object at 0x0000021C47702E00>\n",
      "Microsoft.docx\n",
      "[]\n",
      "\n"
     ]
    }
   ],
   "source": [
    "import os\n",
    "os.chdir(\"./theory\")\n",
    "print(os.getcwd())\n",
    "\n",
    "all_ques = []\n",
    "\n",
    "list_of_folders = os.listdir()\n",
    "for folder in list_of_folders:\n",
    "    os.chdir(folder)\n",
    "    list_of_files = os.listdir()\n",
    "    for file in list_of_files:\n",
    "        ques = get_ques_list(file)\n",
    "        print(file)\n",
    "        print(ques)\n",
    "        print()\n",
    "        all_ques.append(ques)\n",
    "    os.chdir(\"..\")"
   ]
  },
  {
   "cell_type": "code",
   "execution_count": 23,
   "id": "90d56669",
   "metadata": {},
   "outputs": [],
   "source": [
    "\n"
   ]
  },
  {
   "cell_type": "code",
   "execution_count": null,
   "id": "60997539",
   "metadata": {},
   "outputs": [],
   "source": []
  }
 ],
 "metadata": {
  "kernelspec": {
   "display_name": "Python 3 (ipykernel)",
   "language": "python",
   "name": "python3"
  },
  "language_info": {
   "codemirror_mode": {
    "name": "ipython",
    "version": 3
   },
   "file_extension": ".py",
   "mimetype": "text/x-python",
   "name": "python",
   "nbconvert_exporter": "python",
   "pygments_lexer": "ipython3",
   "version": "3.9.13"
  }
 },
 "nbformat": 4,
 "nbformat_minor": 5
}
